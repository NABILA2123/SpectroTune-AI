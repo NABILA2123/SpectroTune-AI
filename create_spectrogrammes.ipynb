{
 "cells": [
  {
   "cell_type": "code",
   "execution_count": null,
   "metadata": {
    "vscode": {
     "languageId": "plaintext"
    }
   },
   "outputs": [],
   "source": [
    "import librosa\n",
    "import librosa.display\n",
    "import numpy as np\n",
    "import matplotlib.pyplot as plt\n",
    "import os\n",
    "from pydub import AudioSegment\n",
    "\n",
    "# Dossier contenant les vidéos téléchargées\n",
    "songs_folder = \"./top_songs_database\"\n",
    "\n",
    "# Dossier pour enregistrer les spectrogrammes\n",
    "spectrogram_folder = \"spectrogrammes\"\n",
    "if not os.path.exists(spectrogram_folder):\n",
    "    os.makedirs(spectrogram_folder)\n",
    "\n",
    "# Fonction pour générer le spectrogramme à partir de l'audio\n",
    "def generate_spectrogram(audio_path, title):\n",
    "    # Charger l'audio avec librosa\n",
    "    y, sr = librosa.load(audio_path, sr=22050)\n",
    "    spectrogram = librosa.amplitude_to_db(np.abs(librosa.stft(y)), ref=np.max)\n",
    "\n",
    "    # Créer le spectrogramme\n",
    "    plt.figure(figsize=(12, 6))\n",
    "    librosa.display.specshow(spectrogram, sr=sr, x_axis=\"time\", y_axis=\"log\", cmap=\"magma\")\n",
    "    plt.colorbar(format=\"%+2.0f dB\")\n",
    "    plt.title(f\"Spectrogramme de {title}\")\n",
    "\n",
    "    # Enregistrer le spectrogramme\n",
    "    spectrogram_path = os.path.join(spectrogram_folder, f\"{title}.png\")\n",
    "    plt.savefig(spectrogram_path)\n",
    "    plt.close()\n",
    "\n",
    "# Parcours du dossier \"top_songs_database\" et traitement de chaque fichier vidéo/audio\n",
    "for filename in os.listdir(songs_folder):\n",
    "    song_path = os.path.join(songs_folder, filename)\n",
    "\n",
    "    if filename.endswith(('.mp3', '.wav')):  # Si le fichier est un audio\n",
    "        audio_path = song_path\n",
    "        title = os.path.splitext(filename)[0]\n",
    "        print(f\"Traitement de l'audio: {title}\")\n",
    "        generate_spectrogram(audio_path, title)\n",
    "\n",
    "    elif filename.endswith(('.mp4', '.mkv', '.webm')):  # Si le fichier est une vidéo\n",
    "        audio_path = \"audio_from_video.wav\"\n",
    "        title = os.path.splitext(filename)[0]\n",
    "        \n",
    "        # Extraire l'audio de la vidéo\n",
    "        print(f\"Extraction de l'audio de la vidéo: {title}\")\n",
    "        audio = AudioSegment.from_file(song_path)\n",
    "        audio.export(audio_path, format=\"wav\")\n",
    "\n",
    "        # Générer le spectrogramme pour l'audio extrait\n",
    "        generate_spectrogram(audio_path, title)\n",
    "\n",
    "        # Supprimer le fichier audio temporaire\n",
    "        os.remove(audio_path)\n",
    "\n",
    "print(f\"Tous les spectrogrammes ont été générés et sauvegardés dans le dossier '{spectrogram_folder}'\")\n"
   ]
  }
 ],
 "metadata": {
  "language_info": {
   "name": "python"
  }
 },
 "nbformat": 4,
 "nbformat_minor": 2
}
