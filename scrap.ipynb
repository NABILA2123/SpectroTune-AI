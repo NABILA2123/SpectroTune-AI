{
 "cells": [
  {
   "cell_type": "code",
   "execution_count": null,
   "metadata": {},
   "outputs": [],
   "source": [
    "import yt_dlp\n",
    "\n",
    "playlist_url = \"https://www.youtube.com/playlist?list=PL4fGSI1pDJn5kI81J1fYWK5eZRl1zJ5kM\"  # Remplace par ta playlist\n",
    "\n",
    "ydl_opts = {\n",
    "    \"format\": \"bestvideo+bestaudio/best\",  # Télécharger la meilleure qualité\n",
    "    \"outtmpl\": \"%(playlist_index)s - %(title)s.%(ext)s\",  # Nom du fichier\n",
    "    \"noplaylist\": False,  # Autoriser le téléchargement de playlists\n",
    "}\n",
    "\n",
    "with yt_dlp.YoutubeDL(ydl_opts) as ydl:\n",
    "    ydl.download([playlist_url])\n"
   ]
  }
 ],
 "metadata": {
  "kernelspec": {
   "display_name": "venv",
   "language": "python",
   "name": "python3"
  },
  "language_info": {
   "codemirror_mode": {
    "name": "ipython",
    "version": 3
   },
   "file_extension": ".py",
   "mimetype": "text/x-python",
   "name": "python",
   "nbconvert_exporter": "python",
   "pygments_lexer": "ipython3",
   "version": "3.12.8"
  }
 },
 "nbformat": 4,
 "nbformat_minor": 2
}
