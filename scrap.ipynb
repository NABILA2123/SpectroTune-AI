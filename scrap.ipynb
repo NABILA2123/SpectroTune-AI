{
 "cells": [
  {
   "cell_type": "code",
   "execution_count": null,
   "metadata": {},
   "outputs": [],
   "source": [
    "import yt_dlp\n",
    "\n",
    "playlist_url = \"https://www.youtube.com/playlist?list=PLFgquLnL59amN2bqX9q4oAErFhJrRrZC7\"  # Remplace par ta playlist\n",
    "\n",
    "ydl_opts = {\n",
    "    \"format\": \"bestvideo+bestaudio/best\",  # Télécharger la meilleure qualité\n",
    "    \"outtmpl\": \"%(playlist_index)s - %(title)s.%(ext)s\",  # Nom du fichier\n",
    "    \"noplaylist\": False,  # Autoriser le téléchargement de playlists\n",
    "}\n",
    "\n",
    "with yt_dlp.YoutubeDL(ydl_opts) as ydl:\n",
    "    ydl.download([playlist_url])\n"
   ]
  }
 ],
 "metadata": {
  "kernelspec": {
   "display_name": "venv",
   "language": "python",
   "name": "python3"
  },
  "language_info": {
   "name": "python",
   "version": "3.12.8"
  }
 },
 "nbformat": 4,
 "nbformat_minor": 2
}
